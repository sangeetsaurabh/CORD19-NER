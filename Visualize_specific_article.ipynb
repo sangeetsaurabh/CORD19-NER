{
 "cells": [
  {
   "cell_type": "code",
   "execution_count": 1,
   "metadata": {},
   "outputs": [
    {
     "name": "stdout",
     "output_type": "stream",
     "text": [
      "Requirement already satisfied: wordcloud in /home/ec2-user/anaconda3/envs/pytorch_latest_p36/lib/python3.6/site-packages (1.7.0)\n",
      "Requirement already satisfied: pillow in /home/ec2-user/anaconda3/envs/pytorch_latest_p36/lib/python3.6/site-packages (from wordcloud) (7.0.0)\n",
      "Requirement already satisfied: matplotlib in /home/ec2-user/anaconda3/envs/pytorch_latest_p36/lib/python3.6/site-packages (from wordcloud) (3.1.3)\n",
      "Requirement already satisfied: numpy>=1.6.1 in /home/ec2-user/anaconda3/envs/pytorch_latest_p36/lib/python3.6/site-packages (from wordcloud) (1.18.1)\n",
      "Requirement already satisfied: cycler>=0.10 in /home/ec2-user/anaconda3/envs/pytorch_latest_p36/lib/python3.6/site-packages (from matplotlib->wordcloud) (0.10.0)\n",
      "Requirement already satisfied: kiwisolver>=1.0.1 in /home/ec2-user/anaconda3/envs/pytorch_latest_p36/lib/python3.6/site-packages (from matplotlib->wordcloud) (1.1.0)\n",
      "Requirement already satisfied: python-dateutil>=2.1 in /home/ec2-user/anaconda3/envs/pytorch_latest_p36/lib/python3.6/site-packages (from matplotlib->wordcloud) (2.8.1)\n",
      "Requirement already satisfied: pyparsing!=2.0.4,!=2.1.2,!=2.1.6,>=2.0.1 in /home/ec2-user/anaconda3/envs/pytorch_latest_p36/lib/python3.6/site-packages (from matplotlib->wordcloud) (2.4.6)\n",
      "Requirement already satisfied: six in /home/ec2-user/anaconda3/envs/pytorch_latest_p36/lib/python3.6/site-packages (from cycler>=0.10->matplotlib->wordcloud) (1.14.0)\n",
      "Requirement already satisfied: setuptools in /home/ec2-user/anaconda3/envs/pytorch_latest_p36/lib/python3.6/site-packages (from kiwisolver>=1.0.1->matplotlib->wordcloud) (46.1.3.post20200330)\n",
      "\u001b[33mWARNING: You are using pip version 20.0.2; however, version 20.1.1 is available.\n",
      "You should consider upgrading via the '/home/ec2-user/anaconda3/envs/pytorch_latest_p36/bin/python -m pip install --upgrade pip' command.\u001b[0m\n"
     ]
    }
   ],
   "source": [
    "!pip install wordcloud"
   ]
  },
  {
   "cell_type": "code",
   "execution_count": 2,
   "metadata": {},
   "outputs": [],
   "source": [
    "import json\n",
    "import pandas as pd\n",
    "import matplotlib.pyplot as plt\n",
    "import plotly.express as px\n",
    "from collections import Counter\n",
    "import numpy as np\n",
    "import ipywidgets as widgets\n",
    "\n",
    "pd.set_option('display.max_colwidth', None)\n",
    "pd.options.display.float_format = '{:,.2f}'.format\n",
    "from wordcloud import WordCloud, STOPWORDS"
   ]
  },
  {
   "cell_type": "code",
   "execution_count": 3,
   "metadata": {},
   "outputs": [],
   "source": [
    "entities_df = pd.read_csv(\"./data/entities_collection.csv\")\n",
    "entities_df[\"text\"] = entities_df.text.str.strip().replace(' ', '_', regex=True).copy()"
   ]
  },
  {
   "cell_type": "code",
   "execution_count": 4,
   "metadata": {},
   "outputs": [
    {
     "data": {
      "text/html": [
       "<div>\n",
       "<style scoped>\n",
       "    .dataframe tbody tr th:only-of-type {\n",
       "        vertical-align: middle;\n",
       "    }\n",
       "\n",
       "    .dataframe tbody tr th {\n",
       "        vertical-align: top;\n",
       "    }\n",
       "\n",
       "    .dataframe thead th {\n",
       "        text-align: right;\n",
       "    }\n",
       "</style>\n",
       "<table border=\"1\" class=\"dataframe\">\n",
       "  <thead>\n",
       "    <tr style=\"text-align: right;\">\n",
       "      <th></th>\n",
       "      <th>text</th>\n",
       "      <th>start</th>\n",
       "      <th>end</th>\n",
       "      <th>type</th>\n",
       "      <th>id</th>\n",
       "    </tr>\n",
       "  </thead>\n",
       "  <tbody>\n",
       "    <tr>\n",
       "      <th>0</th>\n",
       "      <td>Angiotensin-converting_enzyme_2</td>\n",
       "      <td>0</td>\n",
       "      <td>31</td>\n",
       "      <td>GENE_OR_GENOME</td>\n",
       "      <td>0</td>\n",
       "    </tr>\n",
       "    <tr>\n",
       "      <th>1</th>\n",
       "      <td>ACE2</td>\n",
       "      <td>33</td>\n",
       "      <td>37</td>\n",
       "      <td>GENE_OR_GENOME</td>\n",
       "      <td>0</td>\n",
       "    </tr>\n",
       "    <tr>\n",
       "      <th>2</th>\n",
       "      <td>SARS-CoV-2</td>\n",
       "      <td>44</td>\n",
       "      <td>54</td>\n",
       "      <td>CORONAVIRUS</td>\n",
       "      <td>0</td>\n",
       "    </tr>\n",
       "    <tr>\n",
       "      <th>3</th>\n",
       "      <td>receptor</td>\n",
       "      <td>55</td>\n",
       "      <td>63</td>\n",
       "      <td>CHEMICAL</td>\n",
       "      <td>0</td>\n",
       "    </tr>\n",
       "    <tr>\n",
       "      <th>4</th>\n",
       "      <td>SARS-CoV-2</td>\n",
       "      <td>120</td>\n",
       "      <td>130</td>\n",
       "      <td>CORONAVIRUS</td>\n",
       "      <td>0</td>\n",
       "    </tr>\n",
       "  </tbody>\n",
       "</table>\n",
       "</div>"
      ],
      "text/plain": [
       "                              text  start  end            type  id\n",
       "0  Angiotensin-converting_enzyme_2      0   31  GENE_OR_GENOME   0\n",
       "1                             ACE2     33   37  GENE_OR_GENOME   0\n",
       "2                       SARS-CoV-2     44   54     CORONAVIRUS   0\n",
       "3                         receptor     55   63        CHEMICAL   0\n",
       "4                       SARS-CoV-2    120  130     CORONAVIRUS   0"
      ]
     },
     "execution_count": 4,
     "metadata": {},
     "output_type": "execute_result"
    }
   ],
   "source": [
    "entities_df.head()"
   ]
  },
  {
   "cell_type": "code",
   "execution_count": 5,
   "metadata": {},
   "outputs": [],
   "source": [
    "entities_df[\"num_of_words\"] = entities_df.text.str.split()"
   ]
  },
  {
   "cell_type": "code",
   "execution_count": 6,
   "metadata": {},
   "outputs": [],
   "source": [
    "entities_df[\"num_of_words\"] = entities_df[\"num_of_words\"].str.len()"
   ]
  },
  {
   "cell_type": "code",
   "execution_count": 7,
   "metadata": {},
   "outputs": [
    {
     "data": {
      "text/html": [
       "<div>\n",
       "<style scoped>\n",
       "    .dataframe tbody tr th:only-of-type {\n",
       "        vertical-align: middle;\n",
       "    }\n",
       "\n",
       "    .dataframe tbody tr th {\n",
       "        vertical-align: top;\n",
       "    }\n",
       "\n",
       "    .dataframe thead th {\n",
       "        text-align: right;\n",
       "    }\n",
       "</style>\n",
       "<table border=\"1\" class=\"dataframe\">\n",
       "  <thead>\n",
       "    <tr style=\"text-align: right;\">\n",
       "      <th></th>\n",
       "      <th>text</th>\n",
       "      <th>start</th>\n",
       "      <th>end</th>\n",
       "      <th>type</th>\n",
       "      <th>id</th>\n",
       "      <th>num_of_words</th>\n",
       "    </tr>\n",
       "  </thead>\n",
       "  <tbody>\n",
       "    <tr>\n",
       "      <th>4001</th>\n",
       "      <td>First_two months</td>\n",
       "      <td>0</td>\n",
       "      <td>16</td>\n",
       "      <td>DATE</td>\n",
       "      <td>10</td>\n",
       "      <td>2.00</td>\n",
       "    </tr>\n",
       "    <tr>\n",
       "      <th>16863</th>\n",
       "      <td>70 641</td>\n",
       "      <td>201</td>\n",
       "      <td>207</td>\n",
       "      <td>CARDINAL</td>\n",
       "      <td>47</td>\n",
       "      <td>2.00</td>\n",
       "    </tr>\n",
       "    <tr>\n",
       "      <th>16884</th>\n",
       "      <td>10 000</td>\n",
       "      <td>1193</td>\n",
       "      <td>1199</td>\n",
       "      <td>CARDINAL</td>\n",
       "      <td>47</td>\n",
       "      <td>2.00</td>\n",
       "    </tr>\n",
       "    <tr>\n",
       "      <th>19813</th>\n",
       "      <td>age_55 ± 16_years</td>\n",
       "      <td>835</td>\n",
       "      <td>852</td>\n",
       "      <td>DATE</td>\n",
       "      <td>59</td>\n",
       "      <td>3.00</td>\n",
       "    </tr>\n",
       "    <tr>\n",
       "      <th>38545</th>\n",
       "      <td>U = 4</td>\n",
       "      <td>1675</td>\n",
       "      <td>1680</td>\n",
       "      <td>GENE_OR_GENOME</td>\n",
       "      <td>112</td>\n",
       "      <td>3.00</td>\n",
       "    </tr>\n",
       "    <tr>\n",
       "      <th>...</th>\n",
       "      <td>...</td>\n",
       "      <td>...</td>\n",
       "      <td>...</td>\n",
       "      <td>...</td>\n",
       "      <td>...</td>\n",
       "      <td>...</td>\n",
       "    </tr>\n",
       "    <tr>\n",
       "      <th>9623915</th>\n",
       "      <td>5 µg/m(3)_(1</td>\n",
       "      <td>1328</td>\n",
       "      <td>1340</td>\n",
       "      <td>GENE_OR_GENOME</td>\n",
       "      <td>26981</td>\n",
       "      <td>2.00</td>\n",
       "    </tr>\n",
       "    <tr>\n",
       "      <th>9623925</th>\n",
       "      <td>8 µg/m</td>\n",
       "      <td>1649</td>\n",
       "      <td>1655</td>\n",
       "      <td>QUANTITY</td>\n",
       "      <td>26981</td>\n",
       "      <td>2.00</td>\n",
       "    </tr>\n",
       "    <tr>\n",
       "      <th>9623929</th>\n",
       "      <td>2 days</td>\n",
       "      <td>1817</td>\n",
       "      <td>1823</td>\n",
       "      <td>DATE</td>\n",
       "      <td>26981</td>\n",
       "      <td>2.00</td>\n",
       "    </tr>\n",
       "    <tr>\n",
       "      <th>9640366</th>\n",
       "      <td>2 weeks</td>\n",
       "      <td>817</td>\n",
       "      <td>824</td>\n",
       "      <td>DATE</td>\n",
       "      <td>27365</td>\n",
       "      <td>2.00</td>\n",
       "    </tr>\n",
       "    <tr>\n",
       "      <th>9931274</th>\n",
       "      <td>TOC\\n\\nO_FIG</td>\n",
       "      <td>1345</td>\n",
       "      <td>1355</td>\n",
       "      <td>GENE_OR_GENOME</td>\n",
       "      <td>29007</td>\n",
       "      <td>2.00</td>\n",
       "    </tr>\n",
       "  </tbody>\n",
       "</table>\n",
       "<p>2576 rows × 6 columns</p>\n",
       "</div>"
      ],
      "text/plain": [
       "                      text  start   end            type     id  num_of_words\n",
       "4001      First_two months      0    16            DATE     10          2.00\n",
       "16863               70 641    201   207        CARDINAL     47          2.00\n",
       "16884               10 000   1193  1199        CARDINAL     47          2.00\n",
       "19813    age_55 ± 16_years    835   852            DATE     59          3.00\n",
       "38545                U = 4   1675  1680  GENE_OR_GENOME    112          3.00\n",
       "...                    ...    ...   ...             ...    ...           ...\n",
       "9623915       5 µg/m(3)_(1   1328  1340  GENE_OR_GENOME  26981          2.00\n",
       "9623925             8 µg/m   1649  1655        QUANTITY  26981          2.00\n",
       "9623929             2 days   1817  1823            DATE  26981          2.00\n",
       "9640366            2 weeks    817   824            DATE  27365          2.00\n",
       "9931274       TOC\\n\\nO_FIG   1345  1355  GENE_OR_GENOME  29007          2.00\n",
       "\n",
       "[2576 rows x 6 columns]"
      ]
     },
     "execution_count": 7,
     "metadata": {},
     "output_type": "execute_result"
    }
   ],
   "source": [
    "entities_df[entities_df[\"num_of_words\"] > 1]"
   ]
  },
  {
   "cell_type": "markdown",
   "metadata": {},
   "source": [
    "#### Group by Type"
   ]
  },
  {
   "cell_type": "code",
   "execution_count": 8,
   "metadata": {},
   "outputs": [
    {
     "data": {
      "text/plain": [
       "CHEMICAL                2076158\n",
       "GENE_OR_GENOME          1904385\n",
       "DISEASE_OR_SYNDROME      836989\n",
       "CARDINAL                 744513\n",
       "DATE                     665180\n",
       "                         ...   \n",
       "EDUCATIONAL_ACTIVITY       1689\n",
       "LANGUAGE                   1545\n",
       "PHYSICAL_SCIENCE           1399\n",
       "GROUP_ATTRIBUTE             850\n",
       "ARCHAEON                    491\n",
       "Name: type, Length: 63, dtype: int64"
      ]
     },
     "execution_count": 8,
     "metadata": {},
     "output_type": "execute_result"
    }
   ],
   "source": [
    "entities_df.type.value_counts()"
   ]
  },
  {
   "cell_type": "code",
   "execution_count": 9,
   "metadata": {},
   "outputs": [
    {
     "data": {
      "text/plain": [
       "<matplotlib.axes._subplots.AxesSubplot at 0x7f607ed72dd8>"
      ]
     },
     "execution_count": 9,
     "metadata": {},
     "output_type": "execute_result"
    },
    {
     "data": {
      "image/png": "[encoded data removed]",
      "text/plain": [
       "<Figure size 1440x432 with 1 Axes>"
      ]
     },
     "metadata": {
      "needs_background": "light"
     },
     "output_type": "display_data"
    }
   ],
   "source": [
    "entities_df.type.value_counts().plot.bar(figsize=(20,6))"
   ]
  },
  {
   "cell_type": "markdown",
   "metadata": {},
   "source": [
    "#### Visualize Wordcloud"
   ]
  },
  {
   "cell_type": "code",
   "execution_count": 10,
   "metadata": {},
   "outputs": [],
   "source": [
    "stopwords = set(STOPWORDS)\n",
    "def show_wordcloud(data, title = None):\n",
    "    wordcloud = WordCloud(\n",
    "        background_color='white',\n",
    "        stopwords=stopwords,\n",
    "        max_words=1000,\n",
    "        max_font_size=20, \n",
    "        scale=3,\n",
    "        random_state=1 # chosen at random by flipping a coin; it was heads\n",
    "    ).generate_from_frequencies(data)\n",
    "\n",
    "    fig = plt.figure(1, figsize=(24, 12))\n",
    "    plt.axis('off')\n",
    "    if title: \n",
    "        fig.suptitle(title, fontsize=20)\n",
    "        fig.subplots_adjust(top=2.3)\n",
    "\n",
    "    plt.imshow(wordcloud)\n",
    "    plt.show()"
   ]
  },
  {
   "cell_type": "markdown",
   "metadata": {},
   "source": [
    "#### Visualize by individual document"
   ]
  },
  {
   "cell_type": "code",
   "execution_count": 11,
   "metadata": {},
   "outputs": [
    {
     "data": {
      "text/html": [
       "<div>\n",
       "<style scoped>\n",
       "    .dataframe tbody tr th:only-of-type {\n",
       "        vertical-align: middle;\n",
       "    }\n",
       "\n",
       "    .dataframe tbody tr th {\n",
       "        vertical-align: top;\n",
       "    }\n",
       "\n",
       "    .dataframe thead th {\n",
       "        text-align: right;\n",
       "    }\n",
       "</style>\n",
       "<table border=\"1\" class=\"dataframe\">\n",
       "  <thead>\n",
       "    <tr style=\"text-align: right;\">\n",
       "      <th></th>\n",
       "      <th>text</th>\n",
       "      <th>start</th>\n",
       "      <th>end</th>\n",
       "      <th>type</th>\n",
       "      <th>id</th>\n",
       "      <th>num_of_words</th>\n",
       "    </tr>\n",
       "  </thead>\n",
       "  <tbody>\n",
       "    <tr>\n",
       "      <th>0</th>\n",
       "      <td>Angiotensin-converting_enzyme_2</td>\n",
       "      <td>0</td>\n",
       "      <td>31</td>\n",
       "      <td>GENE_OR_GENOME</td>\n",
       "      <td>0</td>\n",
       "      <td>1.00</td>\n",
       "    </tr>\n",
       "    <tr>\n",
       "      <th>1</th>\n",
       "      <td>ACE2</td>\n",
       "      <td>33</td>\n",
       "      <td>37</td>\n",
       "      <td>GENE_OR_GENOME</td>\n",
       "      <td>0</td>\n",
       "      <td>1.00</td>\n",
       "    </tr>\n",
       "    <tr>\n",
       "      <th>2</th>\n",
       "      <td>SARS-CoV-2</td>\n",
       "      <td>44</td>\n",
       "      <td>54</td>\n",
       "      <td>CORONAVIRUS</td>\n",
       "      <td>0</td>\n",
       "      <td>1.00</td>\n",
       "    </tr>\n",
       "    <tr>\n",
       "      <th>3</th>\n",
       "      <td>receptor</td>\n",
       "      <td>55</td>\n",
       "      <td>63</td>\n",
       "      <td>CHEMICAL</td>\n",
       "      <td>0</td>\n",
       "      <td>1.00</td>\n",
       "    </tr>\n",
       "    <tr>\n",
       "      <th>4</th>\n",
       "      <td>SARS-CoV-2</td>\n",
       "      <td>120</td>\n",
       "      <td>130</td>\n",
       "      <td>CORONAVIRUS</td>\n",
       "      <td>0</td>\n",
       "      <td>1.00</td>\n",
       "    </tr>\n",
       "  </tbody>\n",
       "</table>\n",
       "</div>"
      ],
      "text/plain": [
       "                              text  start  end            type  id  \\\n",
       "0  Angiotensin-converting_enzyme_2      0   31  GENE_OR_GENOME   0   \n",
       "1                             ACE2     33   37  GENE_OR_GENOME   0   \n",
       "2                       SARS-CoV-2     44   54     CORONAVIRUS   0   \n",
       "3                         receptor     55   63        CHEMICAL   0   \n",
       "4                       SARS-CoV-2    120  130     CORONAVIRUS   0   \n",
       "\n",
       "   num_of_words  \n",
       "0          1.00  \n",
       "1          1.00  \n",
       "2          1.00  \n",
       "3          1.00  \n",
       "4          1.00  "
      ]
     },
     "execution_count": 11,
     "metadata": {},
     "output_type": "execute_result"
    }
   ],
   "source": [
    "entities_df.head()"
   ]
  },
  {
   "cell_type": "code",
   "execution_count": 12,
   "metadata": {},
   "outputs": [],
   "source": [
    "def get_doc_data_counter(doc_id):\n",
    "    #### Build a counter for deceased patients\n",
    "    name_list = entities_df[entities_df.id == doc_id].text.astype(str).to_list()\n",
    "    names = ' '.join(name_list)\n",
    "    names_counter = Counter(names.split())\n",
    "    return names_counter"
   ]
  },
  {
   "cell_type": "code",
   "execution_count": 33,
   "metadata": {},
   "outputs": [],
   "source": [
    "def get_doc_data(doc_id):\n",
    "    #### Build a counter for deceased patients\n",
    "    doc_data = entities_df[entities_df.id == doc_id].copy()\n",
    "    doc_data[\"text\"] = doc_data[\"text\"].astype(str)\n",
    "    ent_type_by_doc = doc_data.groupby([\"id\",\"type\"])[\"text\"].transform(lambda x : ' | '.join(x))\n",
    "    doc_data[\"text\"] = ent_type_by_doc\n",
    "    doc_data = doc_data[[\"id\",\"type\",\"text\"]].drop_duplicates()\n",
    "    doc_data[\"num_of_text\"] = doc_data[\"text\"].str.split(\"|\").str.len()\n",
    "    doc_data.sort_values(by='type',inplace=True)\n",
    "    return doc_data\n",
    "    "
   ]
  },
  {
   "cell_type": "code",
   "execution_count": 54,
   "metadata": {},
   "outputs": [],
   "source": [
    "def refresh_display(widget):\n",
    "    #     get the correct Output widget based on the index of the chosen tab\n",
    "    \n",
    "    tab_idx = widget['new']\n",
    "    #document_view.clear_output()\n",
    "    entity_view.clear_output()\n",
    "   # print (tab_idx)\n",
    "    #output_widget = outputs[tab_idx]\n",
    "    if tab_idx == 0:\n",
    "        return\n",
    "        with document_view:\n",
    "            show_wordcloud(named_counter)\n",
    "            \n",
    "    elif tab_idx == 1:\n",
    "        with entity_view:\n",
    "            fig = px.scatter(doc_data, x=\"type\", y=\"num_of_text\",color=\"num_of_text\", hover_data=['text'])\n",
    "            fig.update_xaxes(automargin=True)\n",
    "            fig.show()"
   ]
  },
  {
   "cell_type": "code",
   "execution_count": 55,
   "metadata": {},
   "outputs": [
    {
     "data": {
      "application/vnd.jupyter.widget-view+json": {
       "model_id": "5385a6a5df314d7d9c7bcecb8beb4502",
       "version_major": 2,
       "version_minor": 0
      },
      "text/plain": [
       "VBox(children=(HBox(children=(Dropdown(description='Article Id:', options=(5574, 10075, 10395, 5661, 6313, 137…"
      ]
     },
     "metadata": {},
     "output_type": "display_data"
    }
   ],
   "source": [
    "document_view = widgets.Output()\n",
    "entity_view = widgets.Output()\n",
    "\n",
    "###List of Patients\n",
    "doc_list = entities_df.sample(100)[\"id\"].unique().tolist()\n",
    "\n",
    "dropdown_doc_list = widgets.Dropdown(\n",
    "    options = doc_list,\n",
    "    description='Article Id:'\n",
    ")\n",
    "\n",
    "\n",
    "def common_filtering(doc_id):\n",
    "    document_view.clear_output()\n",
    "    entity_view.clear_output()\n",
    "    \n",
    "    named_counter = get_doc_data_counter(doc_id)\n",
    "    doc_data = get_doc_data(doc_id)\n",
    "        \n",
    "    with document_view:\n",
    "        show_wordcloud(named_counter)\n",
    "    \n",
    "    with entity_view:\n",
    "        fig = px.scatter(doc_data, x=\"type\", y=\"num_of_text\",color=\"num_of_text\", hover_data=['text'])\n",
    "        fig.update_xaxes(automargin=True)\n",
    "        fig.show()\n",
    "        \n",
    "            \n",
    "\n",
    "def dropdown_document_view_eventhandler(change):\n",
    "    common_filtering(change.new)\n",
    "\n",
    "dropdown_doc_list.observe(dropdown_document_view_eventhandler, names='value')\n",
    "\n",
    "#display(dropdown_year)\n",
    "#display(dropdown_purpose)\n",
    "#display(bounded_num)\n",
    "\n",
    "\n",
    "item_layout = widgets.Layout(width='auto',margin='120 120 120 120')\n",
    "\n",
    "input_widgets = widgets.HBox([dropdown_doc_list],layout=item_layout)\n",
    "\n",
    "tab = widgets.Tab([document_view,entity_view])\n",
    "tab.set_title(0, 'Article WordCloud')\n",
    "tab.set_title(1, 'Article Entity Count')\n",
    "\n",
    "\n",
    "tab.observe(refresh_display, names='selected_index')\n",
    "\n",
    "#display(tab)\n",
    "\n",
    "dashboard = widgets.VBox([input_widgets, tab])\n",
    "display(dashboard)"
   ]
  },
  {
   "cell_type": "code",
   "execution_count": null,
   "metadata": {},
   "outputs": [],
   "source": []
  }
 ],
 "metadata": {
  "kernelspec": {
   "display_name": "conda_pytorch_latest_p36",
   "language": "python",
   "name": "conda_pytorch_latest_p36"
  },
  "language_info": {
   "codemirror_mode": {
    "name": "ipython",
    "version": 3
   },
   "file_extension": ".py",
   "mimetype": "text/x-python",
   "name": "python",
   "nbconvert_exporter": "python",
   "pygments_lexer": "ipython3",
   "version": "3.6.10"
  }
 },
 "nbformat": 4,
 "nbformat_minor": 4
}
